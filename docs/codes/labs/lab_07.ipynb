{
  "cells": [
    {
      "cell_type": "markdown",
      "id": "073b048d",
      "metadata": {
        "id": "073b048d"
      },
      "source": [
        "<a href=\"https://colab.research.google.com/github/fralfaro/MAT281/blob/main/docs/labs/lab_07.ipynb\" target=\"_parent\"><img src=\"https://colab.research.google.com/assets/colab-badge.svg\" alt=\"Open In Colab\"/></a>\n",
        "\n",
        "# MAT281 - Laboratorio N°07\n",
        "\n",
        "**Objetivo**: Aplicar técnicas básicas de **Machine Learning** (tanto regresión como clasificación), desde la preparación de datos hasta el entrenamiento y evaluación de modelos.\n",
        "\n",
        "> **Nota**: Puede ayudarse de algún asistente virtual como **ChatGPT, Gemini** u otros, así como del autocompletado de **Google Colab**, para avanzar en este laboratorio debido a su extensión.\n",
        "\n",
        "\n",
        "\n",
        "## Regresión\n",
        "\n",
        "\n",
        "<img src=\"https://cdn-icons-png.flaticon.com/512/2400/2400362.png\" width = \"300\" align=\"center\"/>\n"
      ]
    },
    {
      "cell_type": "markdown",
      "id": "a2053628",
      "metadata": {
        "id": "a2053628"
      },
      "source": [
        "Los datos utilizados corresponden a propiedades localizadas en un distrito específico de California, junto con algunas estadísticas resumen extraídas del censo de 1990. Es importante tener en cuenta que los datos no han sido procesados previamente, por lo que será necesario realizar algunas etapas de limpieza y preprocesamiento.\n",
        "\n",
        "Las columnas incluidas en el conjunto de datos son las siguientes (sus nombres son descriptivos):\n",
        "\n",
        "* **longitude**: Longitud geográfica de la propiedad.\n",
        "* **latitude**: Latitud geográfica de la propiedad.\n",
        "* **housingmedianage**: Edad media de las viviendas en la zona.\n",
        "* **total_rooms**: Número total de habitaciones.\n",
        "* **total_bedrooms**: Número total de dormitorios.\n",
        "* **population**: Población en el área circundante.\n",
        "* **households**: Número de hogares en la zona.\n",
        "* **median_income**: Ingreso medio por hogar.\n",
        "* **medianhousevalue**: Valor medio de la propiedad.\n",
        "* **ocean_proximity**: Proximidad al océano.\n",
        "\n",
        "El objetivo de este análisis es predecir el valor medio de las propiedades utilizando las características proporcionadas.\n",
        "\n",
        "Para completar este laboratorio, se recomienda seguir la siguiente rúbrica de trabajo:\n",
        "\n",
        "1. **Definición del problema**: Clarificar el objetivo del análisis y los resultados esperados.\n",
        "2. **Estadística descriptiva**: Resumir las principales características de los datos a través de medidas estadísticas.\n",
        "3. **Visualización descriptiva**: Utilizar gráficos para explorar los datos y sus relaciones.\n",
        "4. **Preprocesamiento**: Realizar los pasos necesarios de limpieza y transformación de los datos.\n",
        "5. **Selección de modelo**: Comparar al menos cuatro modelos de predicción diferentes.\n",
        "6. **Métricas y análisis de resultados**: Evaluar el rendimiento de los modelos utilizando métricas apropiadas.\n",
        "7. **Visualización de resultados del modelo**: Crear gráficos que muestren el desempeño de los modelos.\n",
        "8. **Conclusiones**: Resumir los hallazgos del análisis.\n",
        "\n",
        "> **Nota**: Se anima a los estudiantes a desarrollar un análisis más profundo si lo desean. Pueden consultar como referencia el siguiente [enlace](https://www.kaggle.com/camnugent/california-housing-prices)."
      ]
    },
    {
      "cell_type": "code",
      "execution_count": 1,
      "id": "cf950d11",
      "metadata": {
        "id": "cf950d11"
      },
      "outputs": [],
      "source": [
        "import pandas as pd\n",
        "import numpy as np\n",
        "import matplotlib.pyplot as plt\n",
        "import seaborn as sns"
      ]
    },
    {
      "cell_type": "code",
      "execution_count": 2,
      "id": "38f1f3e7",
      "metadata": {
        "id": "38f1f3e7"
      },
      "outputs": [],
      "source": [
        "from sklearn.metrics import mean_absolute_error, mean_squared_error\n",
        "\n",
        "def mean_absolute_percentage_error(y_true, y_pred):\n",
        "    return np.mean(np.abs((y_true - y_pred) / y_true)) * 100\n",
        "\n",
        "def regression_metrics(df):\n",
        "    \"\"\"\n",
        "    Aplicar las distintas métricas definidas\n",
        "    :param df: DataFrame con las columnas: ['y', 'yhat']\n",
        "    :return: DataFrame con las métricas especificadas\n",
        "    \"\"\"\n",
        "    df_result = pd.DataFrame()\n",
        "\n",
        "    y_true = df['y']\n",
        "    y_pred = df['yhat']\n",
        "\n",
        "    df_result['mae'] = [round(mean_absolute_error(y_true, y_pred), 4)]\n",
        "    df_result['mse'] = [round(mean_squared_error(y_true, y_pred), 4)]\n",
        "    df_result['rmse'] = [round(np.sqrt(mean_squared_error(y_true, y_pred)), 4)]\n",
        "    df_result['mape'] = [round(mean_absolute_percentage_error(y_true, y_pred), 4)]\n",
        "    df_result['smape'] = [round(2 * mean_absolute_percentage_error(y_true, y_pred) / (mean_absolute_percentage_error(y_true, y_pred) + 100), 4)]\n",
        "\n",
        "    return df_result"
      ]
    },
    {
      "cell_type": "code",
      "execution_count": 3,
      "id": "a8fa5144",
      "metadata": {
        "id": "a8fa5144",
        "outputId": "6dd6b919-6d77-4255-c532-d9d0ba0e60e6",
        "colab": {
          "base_uri": "https://localhost:8080/",
          "height": 207
        }
      },
      "outputs": [
        {
          "output_type": "execute_result",
          "data": {
            "text/plain": [
              "   MedInc  HouseAge  AveRooms  AveBedrms  Population  AveOccup  Latitude  \\\n",
              "0  8.3252      41.0  6.984127   1.023810       322.0  2.555556     37.88   \n",
              "1  8.3014      21.0  6.238137   0.971880      2401.0  2.109842     37.86   \n",
              "2  7.2574      52.0  8.288136   1.073446       496.0  2.802260     37.85   \n",
              "3  5.6431      52.0  5.817352   1.073059       558.0  2.547945     37.85   \n",
              "4  3.8462      52.0  6.281853   1.081081       565.0  2.181467     37.85   \n",
              "\n",
              "   Longitude  target  \n",
              "0    -122.23   4.526  \n",
              "1    -122.22   3.585  \n",
              "2    -122.24   3.521  \n",
              "3    -122.25   3.413  \n",
              "4    -122.25   3.422  "
            ],
            "text/html": [
              "\n",
              "  <div id=\"df-ebdeeb0f-2615-4848-a534-895af2dddbba\" class=\"colab-df-container\">\n",
              "    <div>\n",
              "<style scoped>\n",
              "    .dataframe tbody tr th:only-of-type {\n",
              "        vertical-align: middle;\n",
              "    }\n",
              "\n",
              "    .dataframe tbody tr th {\n",
              "        vertical-align: top;\n",
              "    }\n",
              "\n",
              "    .dataframe thead th {\n",
              "        text-align: right;\n",
              "    }\n",
              "</style>\n",
              "<table border=\"1\" class=\"dataframe\">\n",
              "  <thead>\n",
              "    <tr style=\"text-align: right;\">\n",
              "      <th></th>\n",
              "      <th>MedInc</th>\n",
              "      <th>HouseAge</th>\n",
              "      <th>AveRooms</th>\n",
              "      <th>AveBedrms</th>\n",
              "      <th>Population</th>\n",
              "      <th>AveOccup</th>\n",
              "      <th>Latitude</th>\n",
              "      <th>Longitude</th>\n",
              "      <th>target</th>\n",
              "    </tr>\n",
              "  </thead>\n",
              "  <tbody>\n",
              "    <tr>\n",
              "      <th>0</th>\n",
              "      <td>8.3252</td>\n",
              "      <td>41.0</td>\n",
              "      <td>6.984127</td>\n",
              "      <td>1.023810</td>\n",
              "      <td>322.0</td>\n",
              "      <td>2.555556</td>\n",
              "      <td>37.88</td>\n",
              "      <td>-122.23</td>\n",
              "      <td>4.526</td>\n",
              "    </tr>\n",
              "    <tr>\n",
              "      <th>1</th>\n",
              "      <td>8.3014</td>\n",
              "      <td>21.0</td>\n",
              "      <td>6.238137</td>\n",
              "      <td>0.971880</td>\n",
              "      <td>2401.0</td>\n",
              "      <td>2.109842</td>\n",
              "      <td>37.86</td>\n",
              "      <td>-122.22</td>\n",
              "      <td>3.585</td>\n",
              "    </tr>\n",
              "    <tr>\n",
              "      <th>2</th>\n",
              "      <td>7.2574</td>\n",
              "      <td>52.0</td>\n",
              "      <td>8.288136</td>\n",
              "      <td>1.073446</td>\n",
              "      <td>496.0</td>\n",
              "      <td>2.802260</td>\n",
              "      <td>37.85</td>\n",
              "      <td>-122.24</td>\n",
              "      <td>3.521</td>\n",
              "    </tr>\n",
              "    <tr>\n",
              "      <th>3</th>\n",
              "      <td>5.6431</td>\n",
              "      <td>52.0</td>\n",
              "      <td>5.817352</td>\n",
              "      <td>1.073059</td>\n",
              "      <td>558.0</td>\n",
              "      <td>2.547945</td>\n",
              "      <td>37.85</td>\n",
              "      <td>-122.25</td>\n",
              "      <td>3.413</td>\n",
              "    </tr>\n",
              "    <tr>\n",
              "      <th>4</th>\n",
              "      <td>3.8462</td>\n",
              "      <td>52.0</td>\n",
              "      <td>6.281853</td>\n",
              "      <td>1.081081</td>\n",
              "      <td>565.0</td>\n",
              "      <td>2.181467</td>\n",
              "      <td>37.85</td>\n",
              "      <td>-122.25</td>\n",
              "      <td>3.422</td>\n",
              "    </tr>\n",
              "  </tbody>\n",
              "</table>\n",
              "</div>\n",
              "    <div class=\"colab-df-buttons\">\n",
              "\n",
              "  <div class=\"colab-df-container\">\n",
              "    <button class=\"colab-df-convert\" onclick=\"convertToInteractive('df-ebdeeb0f-2615-4848-a534-895af2dddbba')\"\n",
              "            title=\"Convert this dataframe to an interactive table.\"\n",
              "            style=\"display:none;\">\n",
              "\n",
              "  <svg xmlns=\"http://www.w3.org/2000/svg\" height=\"24px\" viewBox=\"0 -960 960 960\">\n",
              "    <path d=\"M120-120v-720h720v720H120Zm60-500h600v-160H180v160Zm220 220h160v-160H400v160Zm0 220h160v-160H400v160ZM180-400h160v-160H180v160Zm440 0h160v-160H620v160ZM180-180h160v-160H180v160Zm440 0h160v-160H620v160Z\"/>\n",
              "  </svg>\n",
              "    </button>\n",
              "\n",
              "  <style>\n",
              "    .colab-df-container {\n",
              "      display:flex;\n",
              "      gap: 12px;\n",
              "    }\n",
              "\n",
              "    .colab-df-convert {\n",
              "      background-color: #E8F0FE;\n",
              "      border: none;\n",
              "      border-radius: 50%;\n",
              "      cursor: pointer;\n",
              "      display: none;\n",
              "      fill: #1967D2;\n",
              "      height: 32px;\n",
              "      padding: 0 0 0 0;\n",
              "      width: 32px;\n",
              "    }\n",
              "\n",
              "    .colab-df-convert:hover {\n",
              "      background-color: #E2EBFA;\n",
              "      box-shadow: 0px 1px 2px rgba(60, 64, 67, 0.3), 0px 1px 3px 1px rgba(60, 64, 67, 0.15);\n",
              "      fill: #174EA6;\n",
              "    }\n",
              "\n",
              "    .colab-df-buttons div {\n",
              "      margin-bottom: 4px;\n",
              "    }\n",
              "\n",
              "    [theme=dark] .colab-df-convert {\n",
              "      background-color: #3B4455;\n",
              "      fill: #D2E3FC;\n",
              "    }\n",
              "\n",
              "    [theme=dark] .colab-df-convert:hover {\n",
              "      background-color: #434B5C;\n",
              "      box-shadow: 0px 1px 3px 1px rgba(0, 0, 0, 0.15);\n",
              "      filter: drop-shadow(0px 1px 2px rgba(0, 0, 0, 0.3));\n",
              "      fill: #FFFFFF;\n",
              "    }\n",
              "  </style>\n",
              "\n",
              "    <script>\n",
              "      const buttonEl =\n",
              "        document.querySelector('#df-ebdeeb0f-2615-4848-a534-895af2dddbba button.colab-df-convert');\n",
              "      buttonEl.style.display =\n",
              "        google.colab.kernel.accessAllowed ? 'block' : 'none';\n",
              "\n",
              "      async function convertToInteractive(key) {\n",
              "        const element = document.querySelector('#df-ebdeeb0f-2615-4848-a534-895af2dddbba');\n",
              "        const dataTable =\n",
              "          await google.colab.kernel.invokeFunction('convertToInteractive',\n",
              "                                                    [key], {});\n",
              "        if (!dataTable) return;\n",
              "\n",
              "        const docLinkHtml = 'Like what you see? Visit the ' +\n",
              "          '<a target=\"_blank\" href=https://colab.research.google.com/notebooks/data_table.ipynb>data table notebook</a>'\n",
              "          + ' to learn more about interactive tables.';\n",
              "        element.innerHTML = '';\n",
              "        dataTable['output_type'] = 'display_data';\n",
              "        await google.colab.output.renderOutput(dataTable, element);\n",
              "        const docLink = document.createElement('div');\n",
              "        docLink.innerHTML = docLinkHtml;\n",
              "        element.appendChild(docLink);\n",
              "      }\n",
              "    </script>\n",
              "  </div>\n",
              "\n",
              "\n",
              "    <div id=\"df-228e9a24-99a8-4b4d-b532-d07e11305897\">\n",
              "      <button class=\"colab-df-quickchart\" onclick=\"quickchart('df-228e9a24-99a8-4b4d-b532-d07e11305897')\"\n",
              "                title=\"Suggest charts\"\n",
              "                style=\"display:none;\">\n",
              "\n",
              "<svg xmlns=\"http://www.w3.org/2000/svg\" height=\"24px\"viewBox=\"0 0 24 24\"\n",
              "     width=\"24px\">\n",
              "    <g>\n",
              "        <path d=\"M19 3H5c-1.1 0-2 .9-2 2v14c0 1.1.9 2 2 2h14c1.1 0 2-.9 2-2V5c0-1.1-.9-2-2-2zM9 17H7v-7h2v7zm4 0h-2V7h2v10zm4 0h-2v-4h2v4z\"/>\n",
              "    </g>\n",
              "</svg>\n",
              "      </button>\n",
              "\n",
              "<style>\n",
              "  .colab-df-quickchart {\n",
              "      --bg-color: #E8F0FE;\n",
              "      --fill-color: #1967D2;\n",
              "      --hover-bg-color: #E2EBFA;\n",
              "      --hover-fill-color: #174EA6;\n",
              "      --disabled-fill-color: #AAA;\n",
              "      --disabled-bg-color: #DDD;\n",
              "  }\n",
              "\n",
              "  [theme=dark] .colab-df-quickchart {\n",
              "      --bg-color: #3B4455;\n",
              "      --fill-color: #D2E3FC;\n",
              "      --hover-bg-color: #434B5C;\n",
              "      --hover-fill-color: #FFFFFF;\n",
              "      --disabled-bg-color: #3B4455;\n",
              "      --disabled-fill-color: #666;\n",
              "  }\n",
              "\n",
              "  .colab-df-quickchart {\n",
              "    background-color: var(--bg-color);\n",
              "    border: none;\n",
              "    border-radius: 50%;\n",
              "    cursor: pointer;\n",
              "    display: none;\n",
              "    fill: var(--fill-color);\n",
              "    height: 32px;\n",
              "    padding: 0;\n",
              "    width: 32px;\n",
              "  }\n",
              "\n",
              "  .colab-df-quickchart:hover {\n",
              "    background-color: var(--hover-bg-color);\n",
              "    box-shadow: 0 1px 2px rgba(60, 64, 67, 0.3), 0 1px 3px 1px rgba(60, 64, 67, 0.15);\n",
              "    fill: var(--button-hover-fill-color);\n",
              "  }\n",
              "\n",
              "  .colab-df-quickchart-complete:disabled,\n",
              "  .colab-df-quickchart-complete:disabled:hover {\n",
              "    background-color: var(--disabled-bg-color);\n",
              "    fill: var(--disabled-fill-color);\n",
              "    box-shadow: none;\n",
              "  }\n",
              "\n",
              "  .colab-df-spinner {\n",
              "    border: 2px solid var(--fill-color);\n",
              "    border-color: transparent;\n",
              "    border-bottom-color: var(--fill-color);\n",
              "    animation:\n",
              "      spin 1s steps(1) infinite;\n",
              "  }\n",
              "\n",
              "  @keyframes spin {\n",
              "    0% {\n",
              "      border-color: transparent;\n",
              "      border-bottom-color: var(--fill-color);\n",
              "      border-left-color: var(--fill-color);\n",
              "    }\n",
              "    20% {\n",
              "      border-color: transparent;\n",
              "      border-left-color: var(--fill-color);\n",
              "      border-top-color: var(--fill-color);\n",
              "    }\n",
              "    30% {\n",
              "      border-color: transparent;\n",
              "      border-left-color: var(--fill-color);\n",
              "      border-top-color: var(--fill-color);\n",
              "      border-right-color: var(--fill-color);\n",
              "    }\n",
              "    40% {\n",
              "      border-color: transparent;\n",
              "      border-right-color: var(--fill-color);\n",
              "      border-top-color: var(--fill-color);\n",
              "    }\n",
              "    60% {\n",
              "      border-color: transparent;\n",
              "      border-right-color: var(--fill-color);\n",
              "    }\n",
              "    80% {\n",
              "      border-color: transparent;\n",
              "      border-right-color: var(--fill-color);\n",
              "      border-bottom-color: var(--fill-color);\n",
              "    }\n",
              "    90% {\n",
              "      border-color: transparent;\n",
              "      border-bottom-color: var(--fill-color);\n",
              "    }\n",
              "  }\n",
              "</style>\n",
              "\n",
              "      <script>\n",
              "        async function quickchart(key) {\n",
              "          const quickchartButtonEl =\n",
              "            document.querySelector('#' + key + ' button');\n",
              "          quickchartButtonEl.disabled = true;  // To prevent multiple clicks.\n",
              "          quickchartButtonEl.classList.add('colab-df-spinner');\n",
              "          try {\n",
              "            const charts = await google.colab.kernel.invokeFunction(\n",
              "                'suggestCharts', [key], {});\n",
              "          } catch (error) {\n",
              "            console.error('Error during call to suggestCharts:', error);\n",
              "          }\n",
              "          quickchartButtonEl.classList.remove('colab-df-spinner');\n",
              "          quickchartButtonEl.classList.add('colab-df-quickchart-complete');\n",
              "        }\n",
              "        (() => {\n",
              "          let quickchartButtonEl =\n",
              "            document.querySelector('#df-228e9a24-99a8-4b4d-b532-d07e11305897 button');\n",
              "          quickchartButtonEl.style.display =\n",
              "            google.colab.kernel.accessAllowed ? 'block' : 'none';\n",
              "        })();\n",
              "      </script>\n",
              "    </div>\n",
              "\n",
              "    </div>\n",
              "  </div>\n"
            ],
            "application/vnd.google.colaboratory.intrinsic+json": {
              "type": "dataframe",
              "variable_name": "housing",
              "summary": "{\n  \"name\": \"housing\",\n  \"rows\": 20640,\n  \"fields\": [\n    {\n      \"column\": \"MedInc\",\n      \"properties\": {\n        \"dtype\": \"number\",\n        \"std\": 1.8998217179452732,\n        \"min\": 0.4999,\n        \"max\": 15.0001,\n        \"num_unique_values\": 12928,\n        \"samples\": [\n          5.0286,\n          2.0433,\n          6.1228\n        ],\n        \"semantic_type\": \"\",\n        \"description\": \"\"\n      }\n    },\n    {\n      \"column\": \"HouseAge\",\n      \"properties\": {\n        \"dtype\": \"number\",\n        \"std\": 12.585557612111637,\n        \"min\": 1.0,\n        \"max\": 52.0,\n        \"num_unique_values\": 52,\n        \"samples\": [\n          35.0,\n          25.0,\n          7.0\n        ],\n        \"semantic_type\": \"\",\n        \"description\": \"\"\n      }\n    },\n    {\n      \"column\": \"AveRooms\",\n      \"properties\": {\n        \"dtype\": \"number\",\n        \"std\": 2.4741731394243205,\n        \"min\": 0.8461538461538461,\n        \"max\": 141.9090909090909,\n        \"num_unique_values\": 19392,\n        \"samples\": [\n          6.111269614835948,\n          5.912820512820513,\n          5.7924528301886795\n        ],\n        \"semantic_type\": \"\",\n        \"description\": \"\"\n      }\n    },\n    {\n      \"column\": \"AveBedrms\",\n      \"properties\": {\n        \"dtype\": \"number\",\n        \"std\": 0.47391085679546435,\n        \"min\": 0.3333333333333333,\n        \"max\": 34.06666666666667,\n        \"num_unique_values\": 14233,\n        \"samples\": [\n          0.9906542056074766,\n          1.112099644128114,\n          1.0398230088495575\n        ],\n        \"semantic_type\": \"\",\n        \"description\": \"\"\n      }\n    },\n    {\n      \"column\": \"Population\",\n      \"properties\": {\n        \"dtype\": \"number\",\n        \"std\": 1132.4621217653375,\n        \"min\": 3.0,\n        \"max\": 35682.0,\n        \"num_unique_values\": 3888,\n        \"samples\": [\n          4169.0,\n          636.0,\n          3367.0\n        ],\n        \"semantic_type\": \"\",\n        \"description\": \"\"\n      }\n    },\n    {\n      \"column\": \"AveOccup\",\n      \"properties\": {\n        \"dtype\": \"number\",\n        \"std\": 10.386049562213591,\n        \"min\": 0.6923076923076923,\n        \"max\": 1243.3333333333333,\n        \"num_unique_values\": 18841,\n        \"samples\": [\n          2.6939799331103678,\n          3.559375,\n          3.297082228116711\n        ],\n        \"semantic_type\": \"\",\n        \"description\": \"\"\n      }\n    },\n    {\n      \"column\": \"Latitude\",\n      \"properties\": {\n        \"dtype\": \"number\",\n        \"std\": 2.1359523974571117,\n        \"min\": 32.54,\n        \"max\": 41.95,\n        \"num_unique_values\": 862,\n        \"samples\": [\n          33.7,\n          34.41,\n          38.24\n        ],\n        \"semantic_type\": \"\",\n        \"description\": \"\"\n      }\n    },\n    {\n      \"column\": \"Longitude\",\n      \"properties\": {\n        \"dtype\": \"number\",\n        \"std\": 2.003531723502581,\n        \"min\": -124.35,\n        \"max\": -114.31,\n        \"num_unique_values\": 844,\n        \"samples\": [\n          -118.63,\n          -119.86,\n          -121.26\n        ],\n        \"semantic_type\": \"\",\n        \"description\": \"\"\n      }\n    },\n    {\n      \"column\": \"target\",\n      \"properties\": {\n        \"dtype\": \"number\",\n        \"std\": 1.1539561587441483,\n        \"min\": 0.14999,\n        \"max\": 5.00001,\n        \"num_unique_values\": 3842,\n        \"samples\": [\n          1.943,\n          3.79,\n          2.301\n        ],\n        \"semantic_type\": \"\",\n        \"description\": \"\"\n      }\n    }\n  ]\n}"
            }
          },
          "metadata": {},
          "execution_count": 3
        }
      ],
      "source": [
        "from sklearn.datasets import fetch_california_housing\n",
        "\n",
        "# Cargar los datos de housing\n",
        "housing_data = fetch_california_housing(as_frame=True)\n",
        "\n",
        "# Convertir los datos en un DataFrame de pandas\n",
        "housing = housing_data['data']\n",
        "housing['target'] = housing_data['target']\n",
        "\n",
        "# Visualizar las primeras filas del DataFrame\n",
        "housing.head()"
      ]
    },
    {
      "cell_type": "code",
      "execution_count": 4,
      "id": "dece8d1c",
      "metadata": {
        "id": "dece8d1c",
        "colab": {
          "base_uri": "https://localhost:8080/"
        },
        "outputId": "06951c4e-8689-4538-f68f-413f2b90c614"
      },
      "outputs": [
        {
          "output_type": "stream",
          "name": "stdout",
          "text": [
            "Cantidad de registros: 20640\n",
            "Cantidad de variables predictoras: 8\n",
            "Variable objetivo: target\n"
          ]
        }
      ],
      "source": [
        "caracteristicas = housing.drop(columns=\"target\")\n",
        "valor_objetivo = housing[\"target\"]\n",
        "print(\"Cantidad de registros:\", housing.shape[0])\n",
        "print(\"Cantidad de variables predictoras:\", caracteristicas.shape[1])\n",
        "print(\"Variable objetivo:\", valor_objetivo.name)"
      ]
    },
    {
      "cell_type": "markdown",
      "id": "88a42f8d",
      "metadata": {
        "id": "88a42f8d"
      },
      "source": [
        "## Clasificación\n",
        "\n",
        "\n",
        "<img src=\"https://miro.medium.com/v2/resize:fit:372/0*EwdH1C6ThmpwY0Qo.png\" width = \"400\" align=\"center\"/>"
      ]
    },
    {
      "cell_type": "markdown",
      "id": "30e83e2f",
      "metadata": {
        "id": "30e83e2f"
      },
      "source": [
        "El objetivo de este proyecto es realizar la mejor predicción posible de las imágenes a partir de los datos disponibles. Para lograrlo, es necesario seguir los pasos habituales en un proyecto de _Machine Learning_, que incluyen la exploración estadística, la visualización y el preprocesamiento de los datos.\n",
        "\n",
        "Se solicita lo siguiente:\n",
        "\n",
        "* Ajustar al menos tres modelos de clasificación:\n",
        "    * Regresión logística.\n",
        "    * K-Nearest Neighbors.\n",
        "    * Un algoritmo adicional o más, de libre elección. Puedes consultar [esta lista de algoritmos](https://scikit-learn.org/stable/supervised_learning.html#supervised-learning) para obtener ideas.\n",
        "  \n",
        "* Realizar predicciones con cada uno de los tres modelos utilizando el conjunto de datos de _test_ y calcular sus respectivas puntuaciones (_score_).\n",
        "\n",
        "* Evaluar y analizar los resultados de los modelos utilizando las siguientes métricas de rendimiento:\n",
        "    * **Accuracy**\n",
        "    * **Precision**\n",
        "    * **Recall**\n",
        "    * **F1-score**"
      ]
    },
    {
      "cell_type": "markdown",
      "id": "ffabdb28",
      "metadata": {
        "id": "ffabdb28"
      },
      "source": [
        "### Exploración de los datos\n",
        "A continuación se carga el conjunto de datos a utilizar, a través del sub-módulo `datasets` de `sklearn`."
      ]
    },
    {
      "cell_type": "code",
      "execution_count": 6,
      "id": "30308413",
      "metadata": {
        "id": "30308413"
      },
      "outputs": [],
      "source": [
        "import numpy as np\n",
        "import pandas as pd\n",
        "from sklearn import datasets\n",
        "import matplotlib.pyplot as plt\n",
        "\n",
        "%matplotlib inline"
      ]
    },
    {
      "cell_type": "code",
      "execution_count": 7,
      "id": "d85a2069",
      "metadata": {
        "colab": {
          "base_uri": "https://localhost:8080/"
        },
        "id": "d85a2069",
        "outputId": "9f1667c7-8654-4dba-dc48-af70fced22b1"
      },
      "outputs": [
        {
          "output_type": "stream",
          "name": "stdout",
          "text": [
            ".. _digits_dataset:\n",
            "\n",
            "Optical recognition of handwritten digits dataset\n",
            "--------------------------------------------------\n",
            "\n",
            "**Data Set Characteristics:**\n",
            "\n",
            ":Number of Instances: 1797\n",
            ":Number of Attributes: 64\n",
            ":Attribute Information: 8x8 image of integer pixels in the range 0..16.\n",
            ":Missing Attribute Values: None\n",
            ":Creator: E. Alpaydin (alpaydin '@' boun.edu.tr)\n",
            ":Date: July; 1998\n",
            "\n",
            "This is a copy of the test set of the UCI ML hand-written digits datasets\n",
            "https://archive.ics.uci.edu/ml/datasets/Optical+Recognition+of+Handwritten+Digits\n",
            "\n",
            "The data set contains images of hand-written digits: 10 classes where\n",
            "each class refers to a digit.\n",
            "\n",
            "Preprocessing programs made available by NIST were used to extract\n",
            "normalized bitmaps of handwritten digits from a preprinted form. From a\n",
            "total of 43 people, 30 contributed to the training set and different 13\n",
            "to the test set. 32x32 bitmaps are divided into nonoverlapping blocks of\n",
            "4x4 and the number of on pixels are counted in each block. This generates\n",
            "an input matrix of 8x8 where each element is an integer in the range\n",
            "0..16. This reduces dimensionality and gives invariance to small\n",
            "distortions.\n",
            "\n",
            "For info on NIST preprocessing routines, see M. D. Garris, J. L. Blue, G.\n",
            "T. Candela, D. L. Dimmick, J. Geist, P. J. Grother, S. A. Janet, and C.\n",
            "L. Wilson, NIST Form-Based Handprint Recognition System, NISTIR 5469,\n",
            "1994.\n",
            "\n",
            ".. dropdown:: References\n",
            "\n",
            "  - C. Kaynak (1995) Methods of Combining Multiple Classifiers and Their\n",
            "    Applications to Handwritten Digit Recognition, MSc Thesis, Institute of\n",
            "    Graduate Studies in Science and Engineering, Bogazici University.\n",
            "  - E. Alpaydin, C. Kaynak (1998) Cascading Classifiers, Kybernetika.\n",
            "  - Ken Tang and Ponnuthurai N. Suganthan and Xi Yao and A. Kai Qin.\n",
            "    Linear dimensionalityreduction using relevance weighted LDA. School of\n",
            "    Electrical and Electronic Engineering Nanyang Technological University.\n",
            "    2005.\n",
            "  - Claudio Gentile. A New Approximate Maximal Margin Classification\n",
            "    Algorithm. NIPS. 2000.\n",
            "\n"
          ]
        }
      ],
      "source": [
        "digits_dict = datasets.load_digits()\n",
        "print(digits_dict[\"DESCR\"])"
      ]
    },
    {
      "cell_type": "code",
      "execution_count": 8,
      "id": "b3ddc4d5",
      "metadata": {
        "colab": {
          "base_uri": "https://localhost:8080/"
        },
        "id": "b3ddc4d5",
        "outputId": "e483a760-a24e-42b5-9edf-0b2550d1c818"
      },
      "outputs": [
        {
          "output_type": "execute_result",
          "data": {
            "text/plain": [
              "dict_keys(['data', 'target', 'frame', 'feature_names', 'target_names', 'images', 'DESCR'])"
            ]
          },
          "metadata": {},
          "execution_count": 8
        }
      ],
      "source": [
        "# informacion de las columnas\n",
        "digits_dict.keys()"
      ]
    },
    {
      "cell_type": "code",
      "execution_count": 9,
      "id": "d7624ddf",
      "metadata": {
        "colab": {
          "base_uri": "https://localhost:8080/"
        },
        "id": "d7624ddf",
        "outputId": "31064983-487c-4566-fdd9-a92b76835d1b"
      },
      "outputs": [
        {
          "output_type": "execute_result",
          "data": {
            "text/plain": [
              "array([0, 1, 2, ..., 8, 9, 8])"
            ]
          },
          "metadata": {},
          "execution_count": 9
        }
      ],
      "source": [
        "# informacion del target\n",
        "digits_dict[\"target\"]"
      ]
    },
    {
      "cell_type": "markdown",
      "id": "acaf4ec0",
      "metadata": {
        "id": "acaf4ec0"
      },
      "source": [
        "A continuación se crea dataframe declarado como `digits` con los datos de `digits_dict` tal que tenga 65 columnas, las 6 primeras a la representación de la imagen en escala de grises (0-blanco, 255-negro) y la última correspondiente al dígito (`target`) con el nombre _target_."
      ]
    },
    {
      "cell_type": "code",
      "execution_count": 10,
      "id": "344b8874",
      "metadata": {
        "colab": {
          "base_uri": "https://localhost:8080/",
          "height": 236
        },
        "id": "344b8874",
        "outputId": "fb310abf-9477-41cc-db06-3e280322d6c3"
      },
      "outputs": [
        {
          "output_type": "execute_result",
          "data": {
            "text/plain": [
              "   c00  c01  c02  c03  c04  c05  c06  c07  c08  c09  ...  c55  c56  c57  c58  \\\n",
              "0    0    0    5   13    9    1    0    0    0    0  ...    0    0    0    6   \n",
              "1    0    0    0   12   13    5    0    0    0    0  ...    0    0    0    0   \n",
              "2    0    0    0    4   15   12    0    0    0    0  ...    0    0    0    0   \n",
              "3    0    0    7   15   13    1    0    0    0    8  ...    0    0    0    7   \n",
              "4    0    0    0    1   11    0    0    0    0    0  ...    0    0    0    0   \n",
              "\n",
              "   c59  c60  c61  c62  c63  target  \n",
              "0   13   10    0    0    0       0  \n",
              "1   11   16   10    0    0       1  \n",
              "2    3   11   16    9    0       2  \n",
              "3   13   13    9    0    0       3  \n",
              "4    2   16    4    0    0       4  \n",
              "\n",
              "[5 rows x 65 columns]"
            ],
            "text/html": [
              "\n",
              "  <div id=\"df-64a8b668-bf7d-4302-b9e4-dec84aa54bc1\" class=\"colab-df-container\">\n",
              "    <div>\n",
              "<style scoped>\n",
              "    .dataframe tbody tr th:only-of-type {\n",
              "        vertical-align: middle;\n",
              "    }\n",
              "\n",
              "    .dataframe tbody tr th {\n",
              "        vertical-align: top;\n",
              "    }\n",
              "\n",
              "    .dataframe thead th {\n",
              "        text-align: right;\n",
              "    }\n",
              "</style>\n",
              "<table border=\"1\" class=\"dataframe\">\n",
              "  <thead>\n",
              "    <tr style=\"text-align: right;\">\n",
              "      <th></th>\n",
              "      <th>c00</th>\n",
              "      <th>c01</th>\n",
              "      <th>c02</th>\n",
              "      <th>c03</th>\n",
              "      <th>c04</th>\n",
              "      <th>c05</th>\n",
              "      <th>c06</th>\n",
              "      <th>c07</th>\n",
              "      <th>c08</th>\n",
              "      <th>c09</th>\n",
              "      <th>...</th>\n",
              "      <th>c55</th>\n",
              "      <th>c56</th>\n",
              "      <th>c57</th>\n",
              "      <th>c58</th>\n",
              "      <th>c59</th>\n",
              "      <th>c60</th>\n",
              "      <th>c61</th>\n",
              "      <th>c62</th>\n",
              "      <th>c63</th>\n",
              "      <th>target</th>\n",
              "    </tr>\n",
              "  </thead>\n",
              "  <tbody>\n",
              "    <tr>\n",
              "      <th>0</th>\n",
              "      <td>0</td>\n",
              "      <td>0</td>\n",
              "      <td>5</td>\n",
              "      <td>13</td>\n",
              "      <td>9</td>\n",
              "      <td>1</td>\n",
              "      <td>0</td>\n",
              "      <td>0</td>\n",
              "      <td>0</td>\n",
              "      <td>0</td>\n",
              "      <td>...</td>\n",
              "      <td>0</td>\n",
              "      <td>0</td>\n",
              "      <td>0</td>\n",
              "      <td>6</td>\n",
              "      <td>13</td>\n",
              "      <td>10</td>\n",
              "      <td>0</td>\n",
              "      <td>0</td>\n",
              "      <td>0</td>\n",
              "      <td>0</td>\n",
              "    </tr>\n",
              "    <tr>\n",
              "      <th>1</th>\n",
              "      <td>0</td>\n",
              "      <td>0</td>\n",
              "      <td>0</td>\n",
              "      <td>12</td>\n",
              "      <td>13</td>\n",
              "      <td>5</td>\n",
              "      <td>0</td>\n",
              "      <td>0</td>\n",
              "      <td>0</td>\n",
              "      <td>0</td>\n",
              "      <td>...</td>\n",
              "      <td>0</td>\n",
              "      <td>0</td>\n",
              "      <td>0</td>\n",
              "      <td>0</td>\n",
              "      <td>11</td>\n",
              "      <td>16</td>\n",
              "      <td>10</td>\n",
              "      <td>0</td>\n",
              "      <td>0</td>\n",
              "      <td>1</td>\n",
              "    </tr>\n",
              "    <tr>\n",
              "      <th>2</th>\n",
              "      <td>0</td>\n",
              "      <td>0</td>\n",
              "      <td>0</td>\n",
              "      <td>4</td>\n",
              "      <td>15</td>\n",
              "      <td>12</td>\n",
              "      <td>0</td>\n",
              "      <td>0</td>\n",
              "      <td>0</td>\n",
              "      <td>0</td>\n",
              "      <td>...</td>\n",
              "      <td>0</td>\n",
              "      <td>0</td>\n",
              "      <td>0</td>\n",
              "      <td>0</td>\n",
              "      <td>3</td>\n",
              "      <td>11</td>\n",
              "      <td>16</td>\n",
              "      <td>9</td>\n",
              "      <td>0</td>\n",
              "      <td>2</td>\n",
              "    </tr>\n",
              "    <tr>\n",
              "      <th>3</th>\n",
              "      <td>0</td>\n",
              "      <td>0</td>\n",
              "      <td>7</td>\n",
              "      <td>15</td>\n",
              "      <td>13</td>\n",
              "      <td>1</td>\n",
              "      <td>0</td>\n",
              "      <td>0</td>\n",
              "      <td>0</td>\n",
              "      <td>8</td>\n",
              "      <td>...</td>\n",
              "      <td>0</td>\n",
              "      <td>0</td>\n",
              "      <td>0</td>\n",
              "      <td>7</td>\n",
              "      <td>13</td>\n",
              "      <td>13</td>\n",
              "      <td>9</td>\n",
              "      <td>0</td>\n",
              "      <td>0</td>\n",
              "      <td>3</td>\n",
              "    </tr>\n",
              "    <tr>\n",
              "      <th>4</th>\n",
              "      <td>0</td>\n",
              "      <td>0</td>\n",
              "      <td>0</td>\n",
              "      <td>1</td>\n",
              "      <td>11</td>\n",
              "      <td>0</td>\n",
              "      <td>0</td>\n",
              "      <td>0</td>\n",
              "      <td>0</td>\n",
              "      <td>0</td>\n",
              "      <td>...</td>\n",
              "      <td>0</td>\n",
              "      <td>0</td>\n",
              "      <td>0</td>\n",
              "      <td>0</td>\n",
              "      <td>2</td>\n",
              "      <td>16</td>\n",
              "      <td>4</td>\n",
              "      <td>0</td>\n",
              "      <td>0</td>\n",
              "      <td>4</td>\n",
              "    </tr>\n",
              "  </tbody>\n",
              "</table>\n",
              "<p>5 rows × 65 columns</p>\n",
              "</div>\n",
              "    <div class=\"colab-df-buttons\">\n",
              "\n",
              "  <div class=\"colab-df-container\">\n",
              "    <button class=\"colab-df-convert\" onclick=\"convertToInteractive('df-64a8b668-bf7d-4302-b9e4-dec84aa54bc1')\"\n",
              "            title=\"Convert this dataframe to an interactive table.\"\n",
              "            style=\"display:none;\">\n",
              "\n",
              "  <svg xmlns=\"http://www.w3.org/2000/svg\" height=\"24px\" viewBox=\"0 -960 960 960\">\n",
              "    <path d=\"M120-120v-720h720v720H120Zm60-500h600v-160H180v160Zm220 220h160v-160H400v160Zm0 220h160v-160H400v160ZM180-400h160v-160H180v160Zm440 0h160v-160H620v160ZM180-180h160v-160H180v160Zm440 0h160v-160H620v160Z\"/>\n",
              "  </svg>\n",
              "    </button>\n",
              "\n",
              "  <style>\n",
              "    .colab-df-container {\n",
              "      display:flex;\n",
              "      gap: 12px;\n",
              "    }\n",
              "\n",
              "    .colab-df-convert {\n",
              "      background-color: #E8F0FE;\n",
              "      border: none;\n",
              "      border-radius: 50%;\n",
              "      cursor: pointer;\n",
              "      display: none;\n",
              "      fill: #1967D2;\n",
              "      height: 32px;\n",
              "      padding: 0 0 0 0;\n",
              "      width: 32px;\n",
              "    }\n",
              "\n",
              "    .colab-df-convert:hover {\n",
              "      background-color: #E2EBFA;\n",
              "      box-shadow: 0px 1px 2px rgba(60, 64, 67, 0.3), 0px 1px 3px 1px rgba(60, 64, 67, 0.15);\n",
              "      fill: #174EA6;\n",
              "    }\n",
              "\n",
              "    .colab-df-buttons div {\n",
              "      margin-bottom: 4px;\n",
              "    }\n",
              "\n",
              "    [theme=dark] .colab-df-convert {\n",
              "      background-color: #3B4455;\n",
              "      fill: #D2E3FC;\n",
              "    }\n",
              "\n",
              "    [theme=dark] .colab-df-convert:hover {\n",
              "      background-color: #434B5C;\n",
              "      box-shadow: 0px 1px 3px 1px rgba(0, 0, 0, 0.15);\n",
              "      filter: drop-shadow(0px 1px 2px rgba(0, 0, 0, 0.3));\n",
              "      fill: #FFFFFF;\n",
              "    }\n",
              "  </style>\n",
              "\n",
              "    <script>\n",
              "      const buttonEl =\n",
              "        document.querySelector('#df-64a8b668-bf7d-4302-b9e4-dec84aa54bc1 button.colab-df-convert');\n",
              "      buttonEl.style.display =\n",
              "        google.colab.kernel.accessAllowed ? 'block' : 'none';\n",
              "\n",
              "      async function convertToInteractive(key) {\n",
              "        const element = document.querySelector('#df-64a8b668-bf7d-4302-b9e4-dec84aa54bc1');\n",
              "        const dataTable =\n",
              "          await google.colab.kernel.invokeFunction('convertToInteractive',\n",
              "                                                    [key], {});\n",
              "        if (!dataTable) return;\n",
              "\n",
              "        const docLinkHtml = 'Like what you see? Visit the ' +\n",
              "          '<a target=\"_blank\" href=https://colab.research.google.com/notebooks/data_table.ipynb>data table notebook</a>'\n",
              "          + ' to learn more about interactive tables.';\n",
              "        element.innerHTML = '';\n",
              "        dataTable['output_type'] = 'display_data';\n",
              "        await google.colab.output.renderOutput(dataTable, element);\n",
              "        const docLink = document.createElement('div');\n",
              "        docLink.innerHTML = docLinkHtml;\n",
              "        element.appendChild(docLink);\n",
              "      }\n",
              "    </script>\n",
              "  </div>\n",
              "\n",
              "\n",
              "    <div id=\"df-1ecc3896-b56c-47a5-ba85-0dcff972b036\">\n",
              "      <button class=\"colab-df-quickchart\" onclick=\"quickchart('df-1ecc3896-b56c-47a5-ba85-0dcff972b036')\"\n",
              "                title=\"Suggest charts\"\n",
              "                style=\"display:none;\">\n",
              "\n",
              "<svg xmlns=\"http://www.w3.org/2000/svg\" height=\"24px\"viewBox=\"0 0 24 24\"\n",
              "     width=\"24px\">\n",
              "    <g>\n",
              "        <path d=\"M19 3H5c-1.1 0-2 .9-2 2v14c0 1.1.9 2 2 2h14c1.1 0 2-.9 2-2V5c0-1.1-.9-2-2-2zM9 17H7v-7h2v7zm4 0h-2V7h2v10zm4 0h-2v-4h2v4z\"/>\n",
              "    </g>\n",
              "</svg>\n",
              "      </button>\n",
              "\n",
              "<style>\n",
              "  .colab-df-quickchart {\n",
              "      --bg-color: #E8F0FE;\n",
              "      --fill-color: #1967D2;\n",
              "      --hover-bg-color: #E2EBFA;\n",
              "      --hover-fill-color: #174EA6;\n",
              "      --disabled-fill-color: #AAA;\n",
              "      --disabled-bg-color: #DDD;\n",
              "  }\n",
              "\n",
              "  [theme=dark] .colab-df-quickchart {\n",
              "      --bg-color: #3B4455;\n",
              "      --fill-color: #D2E3FC;\n",
              "      --hover-bg-color: #434B5C;\n",
              "      --hover-fill-color: #FFFFFF;\n",
              "      --disabled-bg-color: #3B4455;\n",
              "      --disabled-fill-color: #666;\n",
              "  }\n",
              "\n",
              "  .colab-df-quickchart {\n",
              "    background-color: var(--bg-color);\n",
              "    border: none;\n",
              "    border-radius: 50%;\n",
              "    cursor: pointer;\n",
              "    display: none;\n",
              "    fill: var(--fill-color);\n",
              "    height: 32px;\n",
              "    padding: 0;\n",
              "    width: 32px;\n",
              "  }\n",
              "\n",
              "  .colab-df-quickchart:hover {\n",
              "    background-color: var(--hover-bg-color);\n",
              "    box-shadow: 0 1px 2px rgba(60, 64, 67, 0.3), 0 1px 3px 1px rgba(60, 64, 67, 0.15);\n",
              "    fill: var(--button-hover-fill-color);\n",
              "  }\n",
              "\n",
              "  .colab-df-quickchart-complete:disabled,\n",
              "  .colab-df-quickchart-complete:disabled:hover {\n",
              "    background-color: var(--disabled-bg-color);\n",
              "    fill: var(--disabled-fill-color);\n",
              "    box-shadow: none;\n",
              "  }\n",
              "\n",
              "  .colab-df-spinner {\n",
              "    border: 2px solid var(--fill-color);\n",
              "    border-color: transparent;\n",
              "    border-bottom-color: var(--fill-color);\n",
              "    animation:\n",
              "      spin 1s steps(1) infinite;\n",
              "  }\n",
              "\n",
              "  @keyframes spin {\n",
              "    0% {\n",
              "      border-color: transparent;\n",
              "      border-bottom-color: var(--fill-color);\n",
              "      border-left-color: var(--fill-color);\n",
              "    }\n",
              "    20% {\n",
              "      border-color: transparent;\n",
              "      border-left-color: var(--fill-color);\n",
              "      border-top-color: var(--fill-color);\n",
              "    }\n",
              "    30% {\n",
              "      border-color: transparent;\n",
              "      border-left-color: var(--fill-color);\n",
              "      border-top-color: var(--fill-color);\n",
              "      border-right-color: var(--fill-color);\n",
              "    }\n",
              "    40% {\n",
              "      border-color: transparent;\n",
              "      border-right-color: var(--fill-color);\n",
              "      border-top-color: var(--fill-color);\n",
              "    }\n",
              "    60% {\n",
              "      border-color: transparent;\n",
              "      border-right-color: var(--fill-color);\n",
              "    }\n",
              "    80% {\n",
              "      border-color: transparent;\n",
              "      border-right-color: var(--fill-color);\n",
              "      border-bottom-color: var(--fill-color);\n",
              "    }\n",
              "    90% {\n",
              "      border-color: transparent;\n",
              "      border-bottom-color: var(--fill-color);\n",
              "    }\n",
              "  }\n",
              "</style>\n",
              "\n",
              "      <script>\n",
              "        async function quickchart(key) {\n",
              "          const quickchartButtonEl =\n",
              "            document.querySelector('#' + key + ' button');\n",
              "          quickchartButtonEl.disabled = true;  // To prevent multiple clicks.\n",
              "          quickchartButtonEl.classList.add('colab-df-spinner');\n",
              "          try {\n",
              "            const charts = await google.colab.kernel.invokeFunction(\n",
              "                'suggestCharts', [key], {});\n",
              "          } catch (error) {\n",
              "            console.error('Error during call to suggestCharts:', error);\n",
              "          }\n",
              "          quickchartButtonEl.classList.remove('colab-df-spinner');\n",
              "          quickchartButtonEl.classList.add('colab-df-quickchart-complete');\n",
              "        }\n",
              "        (() => {\n",
              "          let quickchartButtonEl =\n",
              "            document.querySelector('#df-1ecc3896-b56c-47a5-ba85-0dcff972b036 button');\n",
              "          quickchartButtonEl.style.display =\n",
              "            google.colab.kernel.accessAllowed ? 'block' : 'none';\n",
              "        })();\n",
              "      </script>\n",
              "    </div>\n",
              "\n",
              "    </div>\n",
              "  </div>\n"
            ],
            "application/vnd.google.colaboratory.intrinsic+json": {
              "type": "dataframe",
              "variable_name": "digits"
            }
          },
          "metadata": {},
          "execution_count": 10
        }
      ],
      "source": [
        "# leer datos\n",
        "digits = (\n",
        "    pd.DataFrame(\n",
        "        digits_dict[\"data\"],\n",
        "    )\n",
        "    .rename(columns=lambda x: f\"c{x:02d}\")\n",
        "    .assign(target=digits_dict[\"target\"])\n",
        "    .astype(int)\n",
        ")\n",
        "\n",
        "digits.head()"
      ]
    },
    {
      "cell_type": "markdown",
      "id": "d8d31f8d",
      "metadata": {
        "id": "d8d31f8d"
      },
      "source": [
        "### Ejercicio 1\n",
        "**Análisis exploratorio:** Realiza tu análisis exploratorio, no debes olvidar nada! Recuerda, cada análisis debe responder una pregunta.\n",
        "\n",
        "Algunas sugerencias:\n",
        "\n",
        "* ¿Cómo se distribuyen los datos?\n",
        "* ¿Cuánta memoria estoy utilizando?\n",
        "* ¿Qué tipo de datos son?\n",
        "* ¿Cuántos registros por clase hay?\n",
        "* ¿Hay registros que no se correspondan con tu conocimiento previo de los datos?"
      ]
    },
    {
      "cell_type": "code",
      "execution_count": 11,
      "id": "dba2c57d",
      "metadata": {
        "colab": {
          "base_uri": "https://localhost:8080/"
        },
        "id": "dba2c57d",
        "outputId": "c0613ab2-0b28-4147-c00f-9004c9df1392"
      },
      "outputs": [
        {
          "output_type": "stream",
          "name": "stdout",
          "text": [
            "Memoria usada en bytes: 934572\n",
            "\n",
            "Tipos de datos por columna:\n",
            " c00       int64\n",
            "c01       int64\n",
            "c02       int64\n",
            "c03       int64\n",
            "c04       int64\n",
            "          ...  \n",
            "c60       int64\n",
            "c61       int64\n",
            "c62       int64\n",
            "c63       int64\n",
            "target    int64\n",
            "Length: 65, dtype: object\n",
            "\n",
            "Cantidad total de valores nulos: 0\n",
            "\n",
            "Cantidad de registros por clase:\n",
            " target\n",
            "3    183\n",
            "1    182\n",
            "5    182\n",
            "4    181\n",
            "6    181\n",
            "9    180\n",
            "7    179\n",
            "0    178\n",
            "2    177\n",
            "8    174\n",
            "Name: count, dtype: int64\n",
            "\n",
            "Clases fuera de lo esperado (0 al 9): []\n"
          ]
        }
      ],
      "source": [
        "memoria_usada = digits.memory_usage(deep=True).sum()\n",
        "tipos_datos = digits.dtypes\n",
        "valores_nulos = digits.isnull().sum().sum()\n",
        "conteo_clases = digits[\"target\"].value_counts()\n",
        "clases_unicas = digits[\"target\"].unique()\n",
        "clases_fuera_de_rango = [c for c in clases_unicas if c < 0 or c > 9]\n",
        "print(\"Memoria usada en bytes:\", memoria_usada)\n",
        "print(\"\\nTipos de datos por columna:\\n\", tipos_datos)\n",
        "print(\"\\nCantidad total de valores nulos:\", valores_nulos)\n",
        "print(\"\\nCantidad de registros por clase:\\n\", conteo_clases)\n",
        "print(\"\\nClases fuera de lo esperado (0 al 9):\", clases_fuera_de_rango)"
      ]
    },
    {
      "cell_type": "markdown",
      "id": "1b42d5e8",
      "metadata": {
        "id": "1b42d5e8"
      },
      "source": [
        "### Ejercicio 2\n",
        "**Visualización:** Para visualizar los datos utilizaremos el método `imshow` de `matplotlib`. Resulta necesario convertir el arreglo desde las dimensiones (1,64)  a (8,8) para que la imagen sea cuadrada y pueda distinguirse el dígito. Superpondremos además el label correspondiente al dígito, mediante el método `text`. Esto nos permitirá comparar la imagen generada con la etiqueta asociada a los valores. Realizaremos lo anterior para los primeros 25 datos del archivo."
      ]
    },
    {
      "cell_type": "code",
      "execution_count": 14,
      "id": "d3d8b886",
      "metadata": {
        "colab": {
          "base_uri": "https://localhost:8080/"
        },
        "id": "d3d8b886",
        "outputId": "3a76a031-701e-410a-f404-7579a5832852"
      },
      "outputs": [
        {
          "output_type": "execute_result",
          "data": {
            "text/plain": [
              "array([[ 0.,  0.,  5., 13.,  9.,  1.,  0.,  0.],\n",
              "       [ 0.,  0., 13., 15., 10., 15.,  5.,  0.],\n",
              "       [ 0.,  3., 15.,  2.,  0., 11.,  8.,  0.],\n",
              "       [ 0.,  4., 12.,  0.,  0.,  8.,  8.,  0.],\n",
              "       [ 0.,  5.,  8.,  0.,  0.,  9.,  8.,  0.],\n",
              "       [ 0.,  4., 11.,  0.,  1., 12.,  7.,  0.],\n",
              "       [ 0.,  2., 14.,  5., 10., 12.,  0.,  0.],\n",
              "       [ 0.,  0.,  6., 13., 10.,  0.,  0.,  0.]])"
            ]
          },
          "metadata": {},
          "execution_count": 14
        }
      ],
      "source": [
        "digits_dict[\"images\"][0]"
      ]
    },
    {
      "cell_type": "markdown",
      "id": "d29838d7",
      "metadata": {
        "id": "d29838d7"
      },
      "source": [
        "Visualiza imágenes de los dígitos utilizando la llave `images` de `digits_dict`.\n",
        "\n",
        "> **Sugerencia**: Utiliza `plt.subplots` y el método `imshow`. Puedes hacer una grilla de varias imágenes al mismo tiempo!"
      ]
    },
    {
      "cell_type": "code",
      "execution_count": 17,
      "id": "626efb96",
      "metadata": {
        "colab": {
          "base_uri": "https://localhost:8080/",
          "height": 1000
        },
        "id": "626efb96",
        "outputId": "4986855c-a7ec-4dc8-b108-a40aac12a692"
      },
      "outputs": [
        {
          "output_type": "display_data",
          "data": {
            "text/plain": [
              "<Figure size 1200x1200 with 25 Axes>"
            ],
            "image/png": "[encoded data removed]"
          },
          "metadata": {}
        }
      ],
      "source": [
        "nx, ny = 5, 5\n",
        "fig, axs = plt.subplots(nx, ny, figsize=(12, 12))\n",
        "indice = 0\n",
        "for fila in range(nx):\n",
        "    for columna in range(ny):\n",
        "        imagen_a = digits.drop(columns=\"target\").iloc[indice].values.reshape(8, 8)\n",
        "        axs[fila, columna].imshow(imagen_a, cmap=\"gray\")\n",
        "        axs[fila, columna].set_title(f\"Etiqueta: {digits['target'].iloc[indice]}\")\n",
        "        axs[fila, columna].axis(\"off\")\n",
        "        indice += 1\n",
        "\n",
        "plt.tight_layout()\n",
        "plt.show()"
      ]
    },
    {
      "cell_type": "markdown",
      "id": "dd774eeb",
      "metadata": {
        "id": "dd774eeb"
      },
      "source": [
        "### Ejercicio 3\n",
        "\n",
        "**Machine Learning**: En esta parte usted debe entrenar los distintos modelos escogidos desde la librería de `skelearn`. Para cada modelo, debe realizar los siguientes pasos:\n",
        "\n",
        "* **train-test**\n",
        "     * Crear conjunto de entrenamiento y testeo (usted determine las proporciones adecuadas).\n",
        "     * Imprimir por pantalla el largo del conjunto de entrenamiento y de testeo.\n",
        "  \n",
        "* **modelo**:\n",
        "     * Instanciar el modelo objetivo desde la librería sklearn.\n",
        "\n",
        "* **Métricas**:\n",
        "     * Graficar matriz de confusión.\n",
        "     * Analizar métricas de error.\n",
        "\n",
        "\n",
        "\n",
        "__Preguntas a responder:__\n",
        "\n",
        "* ¿Cuál modelo es mejor basado en sus métricas?\n",
        "* ¿Cuál modelo demora menos tiempo en ajustarse?\n",
        "* ¿Qué modelo escoges?\n"
      ]
    },
    {
      "cell_type": "code",
      "execution_count": 19,
      "id": "540d535c",
      "metadata": {
        "colab": {
          "base_uri": "https://localhost:8080/",
          "height": 1000
        },
        "id": "540d535c",
        "outputId": "f123632a-18be-4321-a6ef-848b21095c58"
      },
      "outputs": [
        {
          "output_type": "stream",
          "name": "stdout",
          "text": [
            "\n",
            "=== Regresión Logística ===\n",
            "Precisión: 0.9583\n",
            "Tiempo de ajuste: 3.455 segundos\n",
            "              precision    recall  f1-score   support\n",
            "\n",
            "           0       1.00      0.97      0.99        36\n",
            "           1       0.89      0.89      0.89        36\n",
            "           2       0.97      1.00      0.99        35\n",
            "           3       0.95      1.00      0.97        37\n",
            "           4       0.95      1.00      0.97        36\n",
            "           5       0.97      0.97      0.97        37\n",
            "           6       1.00      0.97      0.99        36\n",
            "           7       1.00      0.97      0.99        36\n",
            "           8       0.86      0.86      0.86        35\n",
            "           9       1.00      0.94      0.97        36\n",
            "\n",
            "    accuracy                           0.96       360\n",
            "   macro avg       0.96      0.96      0.96       360\n",
            "weighted avg       0.96      0.96      0.96       360\n",
            "\n"
          ]
        },
        {
          "output_type": "display_data",
          "data": {
            "text/plain": [
              "<Figure size 600x500 with 2 Axes>"
            ],
            "image/png": "[encoded data removed]"
          },
          "metadata": {}
        },
        {
          "output_type": "stream",
          "name": "stdout",
          "text": [
            "\n",
            "=== KNN ===\n",
            "Precisión: 0.9833\n",
            "Tiempo de ajuste: 0.001 segundos\n",
            "              precision    recall  f1-score   support\n",
            "\n",
            "           0       1.00      1.00      1.00        36\n",
            "           1       0.95      1.00      0.97        36\n",
            "           2       1.00      1.00      1.00        35\n",
            "           3       1.00      1.00      1.00        37\n",
            "           4       0.97      1.00      0.99        36\n",
            "           5       1.00      1.00      1.00        37\n",
            "           6       1.00      0.97      0.99        36\n",
            "           7       0.97      1.00      0.99        36\n",
            "           8       0.94      0.91      0.93        35\n",
            "           9       1.00      0.94      0.97        36\n",
            "\n",
            "    accuracy                           0.98       360\n",
            "   macro avg       0.98      0.98      0.98       360\n",
            "weighted avg       0.98      0.98      0.98       360\n",
            "\n"
          ]
        },
        {
          "output_type": "display_data",
          "data": {
            "text/plain": [
              "<Figure size 600x500 with 2 Axes>"
            ],
            "image/png": "[encoded data removed]"
          },
          "metadata": {}
        },
        {
          "output_type": "stream",
          "name": "stdout",
          "text": [
            "\n",
            "=== Árbol de Decisión ===\n",
            "Precisión: 0.8250\n",
            "Tiempo de ajuste: 0.032 segundos\n",
            "              precision    recall  f1-score   support\n",
            "\n",
            "           0       0.92      0.97      0.95        36\n",
            "           1       0.84      0.72      0.78        36\n",
            "           2       0.78      0.80      0.79        35\n",
            "           3       0.79      0.81      0.80        37\n",
            "           4       0.86      0.86      0.86        36\n",
            "           5       0.88      0.95      0.91        37\n",
            "           6       0.81      0.83      0.82        36\n",
            "           7       0.84      0.86      0.85        36\n",
            "           8       0.71      0.69      0.70        35\n",
            "           9       0.82      0.75      0.78        36\n",
            "\n",
            "    accuracy                           0.82       360\n",
            "   macro avg       0.82      0.82      0.82       360\n",
            "weighted avg       0.82      0.82      0.82       360\n",
            "\n"
          ]
        },
        {
          "output_type": "display_data",
          "data": {
            "text/plain": [
              "<Figure size 600x500 with 2 Axes>"
            ],
            "image/png": "[encoded data removed]"
          },
          "metadata": {}
        }
      ],
      "source": [
        "import numpy as np\n",
        "from sklearn import model_selection, linear_model, neighbors, tree\n",
        "from sklearn.metrics import accuracy_score, classification_report, confusion_matrix\n",
        "import matplotlib.pyplot as plt\n",
        "import time\n",
        "\n",
        "X_entrenamiento, X_prueba, y_entrenamiento, y_prueba = model_selection.train_test_split(X, y, test_size=0.2, random_state=42, stratify=y)\n",
        "\n",
        "modelos = {\"Regresión Logística\": linear_model.LogisticRegression(max_iter=2000),\n",
        "           \"KNN\": neighbors.KNeighborsClassifier(n_neighbors=5),\n",
        "           \"Árbol de Decisión\": tree.DecisionTreeClassifier(random_state=42)}\n",
        "\n",
        "resultados = {}\n",
        "for nombre, modelo in modelos.items():\n",
        "    inicio = time.time()\n",
        "    modelo.fit(X_entrenamiento, y_entrenamiento)\n",
        "    fin = time.time()\n",
        "    pred = modelo.predict(X_prueba)\n",
        "    acc = accuracy_score(y_prueba, pred)\n",
        "    reporte = classification_report(y_prueba, pred, zero_division=0)\n",
        "    matriz = confusion_matrix(y_prueba, pred)\n",
        "    resultados[nombre] = {\"accuracy\": acc,\n",
        "                          \"tiempo\": fin - inicio,\n",
        "                          \"reporte\": reporte,\n",
        "                          \"matriz\": matriz}\n",
        "    print(f\"\\n=== {nombre} ===\")\n",
        "    print(f\"Precisión: {acc:.4f}\")\n",
        "    print(f\"Tiempo de ajuste: {fin - inicio:.3f} segundos\")\n",
        "    print(reporte)\n",
        "    plt.figure(figsize=(6, 5))\n",
        "    plt.imshow(matriz, cmap=\"Blues\")\n",
        "    plt.title(f\"Matriz de Confusión - {nombre}\")\n",
        "    plt.xlabel(\"Predicción\")\n",
        "    plt.ylabel(\"Valor Real\")\n",
        "    plt.colorbar()\n",
        "    plt.show()"
      ]
    },
    {
      "cell_type": "markdown",
      "source": [
        "El mejor modelo fue el KNN porque tuvo la mejor precision (0.9833) y f1 promedio. Ademas fue el mas rapido en entrenarse (0.001 seg). La regresion logistica igual anduvo bien pero se demora mas, y el arbol de decision fue el mas malo. Me quedo con la regresion logistica porque aunque knn tenga un poco mas de precision, la regresion logistica es mas interpretable, mas estable frente al ruido y generaliza mejor. Tambien permite entender el peso de cada variable y sus predicciones son mas consistentes."
      ],
      "metadata": {
        "id": "Qm6-mrW-KfZT"
      },
      "id": "Qm6-mrW-KfZT"
    },
    {
      "cell_type": "markdown",
      "id": "ed76c2e1",
      "metadata": {
        "id": "ed76c2e1"
      },
      "source": [
        "### Ejercicio 4\n",
        "\n",
        "__Comprensión del modelo:__ Tomando en cuenta el **mejor modelo entontrado** en el `Ejercicio 3`, debe comprender e interpretar minuciosamente los resultados y gráficos asocados al modelo en estudio, para ello debe resolver los siguientes puntos:\n",
        "\n",
        "\n",
        " * **Curva AUC–ROC**: Replica el ejemplo del siguiente  [link](https://scikit-learn.org/stable/auto_examples/model_selection/plot_roc.html#sphx-glr-auto-examples-model-selection-plot-roc-py) pero con el modelo, parámetros y métrica adecuada. Saque conclusiones del gráfico."
      ]
    },
    {
      "cell_type": "code",
      "execution_count": 20,
      "id": "add5aa81",
      "metadata": {
        "colab": {
          "base_uri": "https://localhost:8080/",
          "height": 581
        },
        "id": "add5aa81",
        "outputId": "690bad24-ddce-43a6-8c21-0016393b3c2e"
      },
      "outputs": [
        {
          "output_type": "display_data",
          "data": {
            "text/plain": [
              "<Figure size 800x600 with 1 Axes>"
            ],
            "image/png": "[encoded data removed]"
          },
          "metadata": {}
        },
        {
          "output_type": "stream",
          "name": "stdout",
          "text": [
            "AUC promedio macro: 0.990\n"
          ]
        }
      ],
      "source": [
        "from sklearn import metrics\n",
        "from sklearn.preprocessing import label_binarize\n",
        "from itertools import cycle\n",
        "import numpy as np\n",
        "import matplotlib.pyplot as plt\n",
        "import time\n",
        "\n",
        "modelo_mejor = linear_model.LogisticRegression(max_iter=2000)\n",
        "modelo_mejor.fit(X_entrenamiento, y_entrenamiento)\n",
        "y_score = modelo_mejor.decision_function(X_prueba)\n",
        "y_bin = label_binarize(y_prueba, classes=np.unique(y))\n",
        "n_classes = y_bin.shape[1]\n",
        "\n",
        "fpr, tpr, roc_auc = dict(), dict(), dict()\n",
        "for i in range(n_classes):\n",
        "    fpr[i], tpr[i], _ = metrics.roc_curve(y_bin[:, i], y_score[:, i])\n",
        "    roc_auc[i] = metrics.auc(fpr[i], tpr[i])\n",
        "\n",
        "all_fpr = np.unique(np.concatenate([fpr[i] for i in range(n_classes)]))\n",
        "mean_tpr = np.zeros_like(all_fpr)\n",
        "for i in range(n_classes):\n",
        "    mean_tpr += np.interp(all_fpr, fpr[i], tpr[i])\n",
        "mean_tpr /= n_classes\n",
        "fpr[\"macro\"] = all_fpr\n",
        "tpr[\"macro\"] = mean_tpr\n",
        "roc_auc[\"macro\"] = metrics.auc(fpr[\"macro\"], tpr[\"macro\"])\n",
        "\n",
        "plt.figure(figsize=(8, 6))\n",
        "plt.plot(fpr[\"macro\"],\n",
        "         tpr[\"macro\"],\n",
        "         color=\"navy\",\n",
        "         linestyle=\":\",\n",
        "         linewidth=3,\n",
        "         label=f\"ROC promedio (area = {roc_auc['macro']:.2f})\",)\n",
        "colors = cycle([\"aqua\", \"darkorange\", \"cornflowerblue\", \"green\", \"red\", \"purple\", \"gold\", \"pink\", \"gray\", \"brown\"])\n",
        "for i, color in zip(range(n_classes), colors):\n",
        "    plt.plot(fpr[i],\n",
        "             tpr[i],\n",
        "             color=color,\n",
        "             lw=1,\n",
        "             label=f\"Clase {i} (area = {roc_auc[i]:.2f})\")\n",
        "plt.plot([0, 1], [0, 1], \"k--\", lw=2)\n",
        "plt.xlim([-0.02, 1.0])\n",
        "plt.ylim([0.0, 1.05])\n",
        "plt.xlabel(\"Tasa de falsos positivos (FPR)\")\n",
        "plt.ylabel(\"Tasa de verdaderos positivos (TPR)\")\n",
        "plt.title(\"Curvas ROC multiclase Regresion Logistica\")\n",
        "plt.legend(loc=\"lower right\")\n",
        "plt.show()\n",
        "print(f\"AUC promedio macro: {roc_auc['macro']:.3f}\")"
      ]
    },
    {
      "cell_type": "markdown",
      "source": [
        "El modelo anda muy bien. El AUC promedio es de 0.99, lo que muestra que la regresion logistica esta clasificando casi perfecto. La mayoria de las clases tienen un area cercana a 1.00, asi que distingue los digitos sin mayor problema.\n",
        "\n",
        "Las curvas estan bien pegadas al borde superior izquierdo, lo que significa que tiene una alta tasa de verdaderos positivos y muy pocos falsos positivos.\n",
        "\n",
        "Los pocos errores que hay probablemente son en digitos que se parecen, como el 3 y el 5 o el 8 y el 9. Nada tan malo, todo dentro de lo esperable."
      ],
      "metadata": {
        "id": "LD4OEtEuI-Ff"
      },
      "id": "LD4OEtEuI-Ff"
    },
    {
      "cell_type": "markdown",
      "id": "69ae2a9b",
      "metadata": {
        "id": "69ae2a9b"
      },
      "source": [
        "### Ejercicio 5\n",
        "\n",
        "\n",
        "__Visualizando Resultados:__ A continuación se provee código para comparar las etiquetas predichas vs las etiquetas reales del conjunto de _test_."
      ]
    },
    {
      "cell_type": "code",
      "execution_count": 22,
      "id": "6a46dd8f",
      "metadata": {
        "id": "6a46dd8f"
      },
      "outputs": [],
      "source": [
        "def mostrar_resultados(digits, model, nx=5, ny=5, label=\"correctos\"):\n",
        "    \"\"\"\n",
        "    Muestra los resultados de las predicciones de un modelo de clasificación en particular.\n",
        "    Se toman aleatoriamente los valores de los resultados.\n",
        "\n",
        "    - label == 'correctos': muestra los valores en los que el modelo acierta.\n",
        "    - label == 'incorrectos': muestra los valores en los que el modelo no acierta.\n",
        "\n",
        "    Observación: El modelo que se recibe como argumento no debe estar entrenado.\n",
        "\n",
        "    :param digits: dataset 'digits'\n",
        "    :param model: modelo de sklearn\n",
        "    :param nx: número de filas (subplots)\n",
        "    :param ny: número de columnas (subplots)\n",
        "    :param label: 'correctos' o 'incorrectos'\n",
        "    :return: gráficos matplotlib\n",
        "    \"\"\"\n",
        "\n",
        "    X = digits.drop(columns=\"target\").values\n",
        "    y = digits[\"target\"].values\n",
        "    X_train, X_test, y_train, y_test = train_test_split(X, y, test_size=0.2, random_state=42)\n",
        "    model.fit(X_train, y_train)  # Ajustar el modelo\n",
        "    y_pred = model.predict(X_test)\n",
        "\n",
        "    # Mostrar los datos correctos\n",
        "    if label == \"correctos\":\n",
        "        mask = (y_pred == y_test)\n",
        "        color = \"green\"\n",
        "\n",
        "    # Mostrar los datos incorrectos\n",
        "    elif label == \"incorrectos\":\n",
        "        mask = (y_pred != y_test)\n",
        "        color = \"red\"\n",
        "\n",
        "    else:\n",
        "        raise ValueError(\"Valor incorrecto\")\n",
        "\n",
        "    X_aux = X_test[mask]\n",
        "    y_aux_true = y_test[mask]\n",
        "    y_aux_pred = y_pred[mask]\n",
        "\n",
        "    # Mostrar los resultados\n",
        "    n_samples = min(nx * ny, len(X_aux))\n",
        "    indices = np.random.choice(len(X_aux), n_samples, replace=False)\n",
        "    fig, ax = plt.subplots(nx, ny, figsize=(12, 12))\n",
        "\n",
        "    for i, index in enumerate(indices):\n",
        "        data = X_aux[index, :].reshape(8, 8)\n",
        "        label_pred = str(int(y_aux_pred[index]))\n",
        "        label_true = str(int(y_aux_true[index]))\n",
        "        row = i // ny\n",
        "        col = i % ny\n",
        "        ax[row, col].imshow(data, interpolation='nearest', cmap='gray_r')\n",
        "        ax[row, col].text(0, 0, label_pred, horizontalalignment='center', verticalalignment='center', fontsize=10, color=color)\n",
        "        ax[row, col].text(7, 0, label_true, horizontalalignment='center', verticalalignment='center', fontsize=10, color='blue')\n",
        "        ax[row, col].get_xaxis().set_visible(False)\n",
        "        ax[row, col].get_yaxis().set_visible(False)\n",
        "\n",
        "    plt.show()"
      ]
    },
    {
      "cell_type": "markdown",
      "id": "72aa6f68",
      "metadata": {
        "id": "72aa6f68"
      },
      "source": [
        "**Pregunta**\n",
        "\n",
        "* Tomando en cuenta el mejor modelo entontrado en el `Ejercicio 3`, grafique los resultados cuando:\n",
        " * el valor predicho y original son iguales\n",
        " * el valor predicho y original son distintos\n",
        "\n",
        "\n",
        "* Cuando el valor predicho y original son distintos ,  ¿Por qué ocurren estas fallas?"
      ]
    },
    {
      "cell_type": "code",
      "source": [
        "mejor_modelo = linear_model.LogisticRegression(max_iter=2000)\n",
        "mostrar_resultados(digits, mejor_modelo, nx=5, ny=5, label=\"correctos\")\n",
        "mostrar_resultados(digits, mejor_modelo, nx=5, ny=5, label=\"incorrectos\")"
      ],
      "metadata": {
        "colab": {
          "base_uri": "https://localhost:8080/",
          "height": 1000
        },
        "id": "6QwWrfSgHiHB",
        "outputId": "d22e8c8b-3420-4732-e27f-47c25c5e2861"
      },
      "id": "6QwWrfSgHiHB",
      "execution_count": 23,
      "outputs": [
        {
          "output_type": "display_data",
          "data": {
            "text/plain": [
              "<Figure size 1200x1200 with 25 Axes>"
            ],
            "image/png": "[encoded data removed]"
          },
          "metadata": {}
        },
        {
          "output_type": "display_data",
          "data": {
            "text/plain": [
              "<Figure size 1200x1200 with 25 Axes>"
            ],
            "image/png": "[encoded data removed]"
          },
          "metadata": {}
        }
      ]
    },
    {
      "cell_type": "markdown",
      "source": [
        "El modelo se equivoca sobre todo en digitos que se parecen entre si, como el 8 y el 9 o el 3 y el 5. Aa veces las imagenes estan medio borrosas o con trazos incompletos, asi que es normal que se confunda. La regresion logistica igual hace un buen trabajo, pero no es perfecta para patrones mas raros. en general los errores que aparecen tienen sentido, nada muy fuera de lo comun."
      ],
      "metadata": {
        "id": "s1NI4Ls3INWp"
      },
      "id": "s1NI4Ls3INWp"
    },
    {
      "cell_type": "markdown",
      "id": "8f0ba3dd",
      "metadata": {
        "id": "8f0ba3dd"
      },
      "source": [
        "### Ejercicio 6\n",
        "**Conclusiones**: Entrega tu veredicto, responde las preguntas iniciales, visualizaciones, trabajos futuros, dificultades, etc."
      ]
    },
    {
      "cell_type": "markdown",
      "source": [
        "En general el modelo de regresion logistica funciono super bien con el dataset de digitos. los resultados del auc, la precision y las demas metricas muestran que el modelo logra distinguir casi todos los numeros sin dificultad.\n",
        "\n",
        "Los errores que aparecen tienen sentido, la mayoria se dan en digitos visualmente parecidos o mal definidos. no hay indicios de sobreajuste y el tiempo de ajuste fue razonable.\n",
        "\n",
        "Comparado con los otros modelos, la regresion logistica fue la mejor opcion por su balance entre rendimiento y velocidad e interpretacion de los datos. Si se quisiera mejorar aun mas, se podria probar con una red neuronal simple o ajustar mejor los parametros de los modelos.\n",
        "\n",
        "En resumen, el modelo cumple muy bien con el objetivo del laboratorio y deja claro que con un buen preprocesamiento y una tecnica adecuada se pueden obtener resultados muy buenos incluso con modelos basicos."
      ],
      "metadata": {
        "id": "LtLLkbymJTEg"
      },
      "id": "LtLLkbymJTEg"
    }
  ],
  "metadata": {
    "colab": {
      "provenance": []
    },
    "kernelspec": {
      "display_name": "Python 3 (ipykernel)",
      "language": "python",
      "name": "python3"
    },
    "language_info": {
      "codemirror_mode": {
        "name": "ipython",
        "version": 3
      },
      "file_extension": ".py",
      "mimetype": "text/x-python",
      "name": "python",
      "nbconvert_exporter": "python",
      "pygments_lexer": "ipython3",
      "version": "3.10.11"
    }
  },
  "nbformat": 4,
  "nbformat_minor": 5
}